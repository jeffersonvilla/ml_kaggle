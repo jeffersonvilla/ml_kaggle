{
  "nbformat": 4,
  "nbformat_minor": 0,
  "metadata": {
    "colab": {
      "name": "storeSalesML.ipynb",
      "provenance": [],
      "authorship_tag": "ABX9TyOvPy1AkkKWh33UhlhR4FNR",
      "include_colab_link": true
    },
    "kernelspec": {
      "name": "python3",
      "display_name": "Python 3"
    },
    "language_info": {
      "name": "python"
    }
  },
  "cells": [
    {
      "cell_type": "markdown",
      "metadata": {
        "id": "view-in-github",
        "colab_type": "text"
      },
      "source": [
        "<a href=\"https://colab.research.google.com/github/jeffersonvilla/ml_kaggle/blob/main/storeSalesML.ipynb\" target=\"_parent\"><img src=\"https://colab.research.google.com/assets/colab-badge.svg\" alt=\"Open In Colab\"/></a>"
      ]
    },
    {
      "cell_type": "code",
      "metadata": {
        "id": "5jwaj51SjeKc"
      },
      "source": [
        "import matplotlib.pyplot as plt\n",
        "from sklearn import linear_model\n",
        "from sklearn import preprocessing\n",
        "import numpy as np\n",
        "import pandas as pd\n",
        "from sklearn.preprocessing import LabelEncoder\n",
        "import csv\n"
      ],
      "execution_count": 33,
      "outputs": []
    },
    {
      "cell_type": "code",
      "metadata": {
        "id": "6Uy3pRkjzMBB"
      },
      "source": [
        "#helper function\n",
        "def parseLabelsStringToInt(matrix, column_names):\n",
        "  le=LabelEncoder()\n",
        "  for col in column_names:\n",
        "      if col in matrix.columns:\n",
        "          i = matrix.columns.get_loc(col)\n",
        "          matrix.iloc[:,i] = matrix.apply(lambda i:le.fit_transform(i.astype(str)), axis=0, result_type='expand')\n",
        "  return matrix"
      ],
      "execution_count": 3,
      "outputs": []
    },
    {
      "cell_type": "code",
      "metadata": {
        "id": "7oiPgcC5pDSp"
      },
      "source": [
        "#Preprocess training dataset\n",
        "train = pd.read_csv('train.csv', quoting=csv.QUOTE_NONNUMERIC, error_bad_lines=False)\n",
        "train.fillna(0, inplace=True)\n",
        "train['date'] = pd.to_datetime(train['date'], format='%Y-%m-%d', errors='coerce')\n",
        "train['year'] = train['date'].dt.year\n",
        "train['month'] = train['date'].dt.month\n",
        "train['day'] = train['date'].dt.day\n",
        "train = parseLabelsStringToInt(train, ['family'])\n",
        "train = train.drop('date',axis = 1)\n",
        "X_train = train.drop('sales', axis=1)\n",
        "y_train = train['sales']"
      ],
      "execution_count": null,
      "outputs": []
    },
    {
      "cell_type": "code",
      "metadata": {
        "id": "u3sSYt_N2f8j"
      },
      "source": [
        "#Preprocess test dataset\n",
        "test = pd.read_csv('test.csv', quoting=csv.QUOTE_NONNUMERIC, error_bad_lines=False)\n",
        "test.fillna(0, inplace=True)\n",
        "test['date'] = pd.to_datetime(test['date'], format='%Y-%m-%d', errors='coerce')\n",
        "test['year'] = test['date'].dt.year\n",
        "test['month'] = test['date'].dt.month\n",
        "test['day'] = test['date'].dt.day\n",
        "test = parseLabelsStringToInt(test, ['family'])\n",
        "test = test.drop('date',axis = 1)"
      ],
      "execution_count": 80,
      "outputs": []
    },
    {
      "cell_type": "code",
      "metadata": {
        "id": "Cfs8ooNr6b_E"
      },
      "source": [
        "#train model and predict test\n",
        "regr = linear_model.LinearRegression()\n",
        "regr.fit(X_train, y_train)\n",
        "y_test = regr.predict(test)"
      ],
      "execution_count": 84,
      "outputs": []
    },
    {
      "cell_type": "code",
      "metadata": {
        "id": "CGOriDdT6qRc"
      },
      "source": [
        "y_test1 = pd.DataFrame()\n",
        "y_test1['id'] = test['id'].astype(int)\n",
        "y_test1['sales'] = y_test"
      ],
      "execution_count": 93,
      "outputs": []
    },
    {
      "cell_type": "code",
      "metadata": {
        "id": "HM4Z79KM62yl"
      },
      "source": [
        "y_test1.to_csv('results_sales.csv', index = False)"
      ],
      "execution_count": 94,
      "outputs": []
    }
  ]
}