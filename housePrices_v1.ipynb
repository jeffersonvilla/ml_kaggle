{
  "nbformat": 4,
  "nbformat_minor": 0,
  "metadata": {
    "colab": {
      "name": "housePrices_preprocessing.ipynb",
      "provenance": [],
      "collapsed_sections": [],
      "authorship_tag": "ABX9TyMp6ZRglv1i0PoV6Oug+EHx",
      "include_colab_link": true
    },
    "kernelspec": {
      "name": "python3",
      "display_name": "Python 3"
    },
    "language_info": {
      "name": "python"
    }
  },
  "cells": [
    {
      "cell_type": "markdown",
      "metadata": {
        "id": "view-in-github",
        "colab_type": "text"
      },
      "source": [
        "<a href=\"https://colab.research.google.com/github/jeffersonvilla/ml_kaggle/blob/main/housePrices_v1.ipynb\" target=\"_parent\"><img src=\"https://colab.research.google.com/assets/colab-badge.svg\" alt=\"Open In Colab\"/></a>"
      ]
    },
    {
      "cell_type": "code",
      "metadata": {
        "id": "tG9CtbfT-BjI"
      },
      "source": [
        "import matplotlib.pyplot as plt\n",
        "from sklearn import linear_model\n",
        "import numpy as np\n",
        "import pandas as pd\n",
        "from sklearn.preprocessing import LabelEncoder"
      ],
      "execution_count": null,
      "outputs": []
    },
    {
      "cell_type": "code",
      "metadata": {
        "id": "hooFqkH7ut1V"
      },
      "source": [
        "def parseLabelsStringToInt(matrix):\n",
        "  column_names = []\n",
        "  for column in matrix:\n",
        "    \n",
        "      if(pd.isna(matrix[column][0])):\n",
        "        c = 1\n",
        "        found = False\n",
        "        for c in range(len(matrix[column])):\n",
        "          if(pd.isna(matrix[column][c])):\n",
        "            continue\n",
        "          else:\n",
        "            found = True\n",
        "            break\n",
        "        if(found and isinstance(matrix[column][c],str)):\n",
        "          column_names.append(column)\n",
        "      else:\n",
        "        if(isinstance(matrix[column][0],str)):\n",
        "          column_names.append(column)\n",
        "        \n",
        "\n",
        "  le=LabelEncoder()\n",
        "  for col in column_names:\n",
        "      if col in matrix.columns:\n",
        "          i = matrix.columns.get_loc(col)\n",
        "          matrix.iloc[:,i] = matrix.apply(lambda i:le.fit_transform(i.astype(str)), axis=0, result_type='expand')\n",
        "  return matrix"
      ],
      "execution_count": null,
      "outputs": []
    },
    {
      "cell_type": "code",
      "metadata": {
        "id": "n7atm3exlkWr"
      },
      "source": [
        "#Preprocess training dataset\n",
        "train = pd.read_csv('train.csv')\n",
        "train = parseLabelsStringToInt(train)\n",
        "X_train = train[train.columns[0:80]]\n",
        "y_train = train[train.columns[80:81]]\n",
        "X_train.fillna(0,inplace=True)\n",
        "X_train.replace([np.inf, -np.inf], np.nan, inplace=True)"
      ],
      "execution_count": null,
      "outputs": []
    },
    {
      "cell_type": "code",
      "metadata": {
        "id": "CdSAABuulnX7"
      },
      "source": [
        "#Preprocess test dataset\n",
        "X_test = pd.read_csv('test.csv')\n",
        "X_test = parseLabelsStringToInt(X_test)\n",
        "X_test.fillna(0,inplace=True)\n",
        "X_test.replace([np.inf, -np.inf], np.nan, inplace=True)"
      ],
      "execution_count": null,
      "outputs": []
    },
    {
      "cell_type": "code",
      "metadata": {
        "id": "cTiwom_Flp6u"
      },
      "source": [
        "#Train model and predict test\n",
        "regr = linear_model.LinearRegression()\n",
        "regr.fit(X_train, y_train)\n",
        "y_test = regr.predict(X_test)"
      ],
      "execution_count": null,
      "outputs": []
    },
    {
      "cell_type": "code",
      "metadata": {
        "id": "381WlQ50QGcv"
      },
      "source": [
        "y_test1 = pd.DataFrame()\n",
        "y_test1['Id'] = X_test['Id']\n",
        "y_test1['SalePrice'] = y_test"
      ],
      "execution_count": null,
      "outputs": []
    },
    {
      "cell_type": "code",
      "metadata": {
        "id": "djkfisexQMXQ"
      },
      "source": [
        "y_test1.to_csv('results_final.csv', index = False)"
      ],
      "execution_count": null,
      "outputs": []
    }
  ]
}